{
 "cells": [
  {
   "cell_type": "markdown",
   "id": "80a522e5",
   "metadata": {},
   "source": [
    "<h1 style = \"color:red\">Understanding Different Datasets and their shapes</h1>"
   ]
  },
  {
   "cell_type": "markdown",
   "id": "c5be1b24",
   "metadata": {},
   "source": [
    "<h2 style = \"color=green\">1. Loading data from csv file</h2>"
   ]
  },
  {
   "cell_type": "code",
   "execution_count": null,
   "id": "e3b0e294",
   "metadata": {},
   "outputs": [],
   "source": [
    "# Importing libary\n",
    "import pandas as pd\n",
    "\n",
    "# Loading csv data as pandas dataframe\n",
    "df1 = pd.read_csv(\"student.csv\")"
   ]
  },
  {
   "cell_type": "code",
   "execution_count": null,
   "id": "20c43c3b",
   "metadata": {},
   "outputs": [],
   "source": [
    "print(\"***Shape of Data***\")\n",
    "print(df1.shape)"
   ]
  },
  {
   "cell_type": "code",
   "execution_count": null,
   "id": "35800f05",
   "metadata": {},
   "outputs": [],
   "source": [
    "print(\"\\n***Features***\")\n",
    "print(df1.columns)"
   ]
  },
  {
   "cell_type": "code",
   "execution_count": null,
   "id": "f3b85199",
   "metadata": {},
   "outputs": [],
   "source": [
    "print(\"\\n***First 5 instances***\")\n",
    "print(df1.head())"
   ]
  },
  {
   "cell_type": "markdown",
   "id": "5c2541b8",
   "metadata": {},
   "source": [
    "<h2 style = \"color=green\">2. Loading data from Excel file</h2>"
   ]
  },
  {
   "cell_type": "code",
   "execution_count": null,
   "id": "713a774a",
   "metadata": {},
   "outputs": [],
   "source": [
    "# Importing libary\n",
    "import pandas as pd\n",
    "\n",
    "# Loading Excel data as pandas dataframe\n",
    "df2 = pd.read_excel(\"Superstore.xls\")"
   ]
  },
  {
   "cell_type": "code",
   "execution_count": null,
   "id": "2da323e4",
   "metadata": {},
   "outputs": [],
   "source": [
    "print(\"***Shape of Data***\")\n",
    "print(df2.shape)"
   ]
  },
  {
   "cell_type": "code",
   "execution_count": null,
   "id": "51046aa9",
   "metadata": {},
   "outputs": [],
   "source": [
    "print(\"\\n***Features***\")\n",
    "print(df2.columns)"
   ]
  },
  {
   "cell_type": "code",
   "execution_count": null,
   "id": "6bec621f",
   "metadata": {},
   "outputs": [],
   "source": [
    "print(\"\\n***First 5 instances***\")\n",
    "print(df2.head())"
   ]
  },
  {
   "cell_type": "markdown",
   "id": "37e226ea",
   "metadata": {},
   "source": [
    "<h2 style = \"color=green\">3. Loading Black & White Image</h2>"
   ]
  },
  {
   "cell_type": "code",
   "execution_count": null,
   "id": "19797482",
   "metadata": {},
   "outputs": [],
   "source": [
    "from skimage import io\n",
    "\n",
    "img1 = io.imread(\"bw1.jpg\")\n",
    "print(type(img1))"
   ]
  },
  {
   "cell_type": "code",
   "execution_count": null,
   "id": "56f95cf8",
   "metadata": {},
   "outputs": [],
   "source": [
    "print(\"\\n***Image***\")\n",
    "io.imshow(img1)"
   ]
  },
  {
   "cell_type": "code",
   "execution_count": null,
   "id": "0b94ca60",
   "metadata": {},
   "outputs": [],
   "source": [
    "print(\"\\n***Shape of image***\")\n",
    "print(img1.shape)"
   ]
  },
  {
   "cell_type": "code",
   "execution_count": null,
   "id": "f68cb940",
   "metadata": {},
   "outputs": [],
   "source": [
    "print(\"\\n***First Pixel value***\")\n",
    "print(img1[0, 0])"
   ]
  },
  {
   "cell_type": "markdown",
   "id": "f5d30c43",
   "metadata": {},
   "source": [
    "<h2 style = \"color=green\">4. Loading Grayscale Image</h2>"
   ]
  },
  {
   "cell_type": "code",
   "execution_count": null,
   "id": "c90a4660",
   "metadata": {},
   "outputs": [],
   "source": [
    "from skimage import io\n",
    "\n",
    "img2 = io.imread(\"gray1.jpg\")\n",
    "print(type(img1))"
   ]
  },
  {
   "cell_type": "code",
   "execution_count": null,
   "id": "f3f55181",
   "metadata": {},
   "outputs": [],
   "source": [
    "print(\"\\n***Image***\")\n",
    "io.imshow(img2)"
   ]
  },
  {
   "cell_type": "code",
   "execution_count": null,
   "id": "76345a64",
   "metadata": {},
   "outputs": [],
   "source": [
    "print(\"\\n***Shape of image***\")\n",
    "print(img2.shape)"
   ]
  },
  {
   "cell_type": "code",
   "execution_count": null,
   "id": "7d2a7051",
   "metadata": {},
   "outputs": [],
   "source": [
    "print(\"\\n***First Pixel value***\")\n",
    "print(img2[0, 0])"
   ]
  },
  {
   "cell_type": "markdown",
   "id": "46952b6b",
   "metadata": {},
   "source": [
    "<h2 style = \"color=green\">5. Loading RGB Color Image</h2>"
   ]
  },
  {
   "cell_type": "code",
   "execution_count": null,
   "id": "2e73b7ba",
   "metadata": {},
   "outputs": [],
   "source": [
    "from skimage import io\n",
    "\n",
    "img3 = io.imread(\"color.jfif\")\n",
    "print(type(img1))"
   ]
  },
  {
   "cell_type": "code",
   "execution_count": null,
   "id": "e394b7d4",
   "metadata": {},
   "outputs": [],
   "source": [
    "print(\"\\n***Image***\")\n",
    "io.imshow(img3)"
   ]
  },
  {
   "cell_type": "code",
   "execution_count": null,
   "id": "f3212742",
   "metadata": {},
   "outputs": [],
   "source": [
    "print(\"\\n***Shape of image***\")\n",
    "print(img3.shape)"
   ]
  },
  {
   "cell_type": "code",
   "execution_count": null,
   "id": "b5c00f67",
   "metadata": {},
   "outputs": [],
   "source": [
    "print(\"\\n***First Pixel value***\")\n",
    "print(img3[0, 0])"
   ]
  }
 ],
 "metadata": {
  "kernelspec": {
   "display_name": "Python 3",
   "language": "python",
   "name": "python3"
  },
  "language_info": {
   "codemirror_mode": {
    "name": "ipython",
    "version": 3
   },
   "file_extension": ".py",
   "mimetype": "text/x-python",
   "name": "python",
   "nbconvert_exporter": "python",
   "pygments_lexer": "ipython3",
   "version": "3.9.4"
  }
 },
 "nbformat": 4,
 "nbformat_minor": 5
}
