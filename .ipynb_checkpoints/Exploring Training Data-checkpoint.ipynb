{
 "cells": [
  {
   "cell_type": "markdown",
   "id": "86d952a1",
   "metadata": {},
   "source": [
    "<h2 style=\"color:blue\">Importing Libraries</h2>"
   ]
  },
  {
   "cell_type": "code",
   "execution_count": 1,
   "id": "23260553",
   "metadata": {},
   "outputs": [],
   "source": [
    "import pandas as pd"
   ]
  },
  {
   "cell_type": "markdown",
   "id": "a26e3999",
   "metadata": {},
   "source": [
    "<h2 style=\"color:blue\">Loading Datast</h2>"
   ]
  },
  {
   "cell_type": "code",
   "execution_count": 2,
   "id": "771c25d1",
   "metadata": {},
   "outputs": [
    {
     "name": "stdout",
     "output_type": "stream",
     "text": [
      "<class 'pandas.core.frame.DataFrame'>\n"
     ]
    }
   ],
   "source": [
    "data = pd.read_csv(\"student.csv\")\n",
    "print(type(data))"
   ]
  },
  {
   "cell_type": "markdown",
   "id": "514a6b0f",
   "metadata": {},
   "source": [
    "<h2 style=\"color:blue\">Exploring Dataset</h2>"
   ]
  },
  {
   "cell_type": "code",
   "execution_count": 3,
   "id": "9e3bd9d0",
   "metadata": {},
   "outputs": [
    {
     "name": "stdout",
     "output_type": "stream",
     "text": [
      "     Name  IQ  TimeSpent  Performance\n",
      "0    Ramu   7          5           65\n",
      "1  Ganesh   6          7           60\n",
      "2  Kamesh   5          7           55\n",
      "3  Rakesh   8          8           75\n",
      "4   Subbu   8          4           70\n",
      "5  Chinni   6          5           72\n",
      "6     Nag   8          6           80\n",
      "7     uma   6          6           65\n",
      "8   srinu   6          7           65\n",
      "9  Laxman   6          9           60\n"
     ]
    }
   ],
   "source": [
    "print(data)"
   ]
  },
  {
   "cell_type": "code",
   "execution_count": 4,
   "id": "5e479d00",
   "metadata": {},
   "outputs": [
    {
     "name": "stdout",
     "output_type": "stream",
     "text": [
      "Shape of dataset: (10, 4)\n"
     ]
    }
   ],
   "source": [
    "print(f\"Shape of dataset: {data.shape}\")"
   ]
  },
  {
   "cell_type": "code",
   "execution_count": 5,
   "id": "7d9990bd",
   "metadata": {},
   "outputs": [
    {
     "name": "stdout",
     "output_type": "stream",
     "text": [
      "Number of samples: 10\n",
      "Number of fetures: 4\n"
     ]
    }
   ],
   "source": [
    "print(f\"Number of samples: {data.shape[0]}\")\n",
    "print(f\"Number of fetures: {data.shape[1]}\")"
   ]
  },
  {
   "cell_type": "markdown",
   "id": "d59a92ce",
   "metadata": {},
   "source": [
    "<h2 style=\"color:blue\">Seperating the input and output features</h2>"
   ]
  },
  {
   "cell_type": "code",
   "execution_count": 6,
   "id": "af0f416d",
   "metadata": {},
   "outputs": [],
   "source": [
    "X = data.drop(\"Performance\", axis = 1)\n",
    "y = data[\"Performance\"]"
   ]
  },
  {
   "cell_type": "code",
   "execution_count": 7,
   "id": "573fdd65",
   "metadata": {},
   "outputs": [
    {
     "name": "stdout",
     "output_type": "stream",
     "text": [
      "Shape of input dataset: (10, 3)\n",
      "Shape of output dataset: (10,)\n"
     ]
    }
   ],
   "source": [
    "print(f\"Shape of input dataset: {X.shape}\")\n",
    "print(f\"Shape of output dataset: {y.shape}\")"
   ]
  },
  {
   "cell_type": "code",
   "execution_count": null,
   "id": "1c26b913",
   "metadata": {},
   "outputs": [],
   "source": []
  }
 ],
 "metadata": {
  "kernelspec": {
   "display_name": "Python 3",
   "language": "python",
   "name": "python3"
  },
  "language_info": {
   "codemirror_mode": {
    "name": "ipython",
    "version": 3
   },
   "file_extension": ".py",
   "mimetype": "text/x-python",
   "name": "python",
   "nbconvert_exporter": "python",
   "pygments_lexer": "ipython3",
   "version": "3.9.4"
  }
 },
 "nbformat": 4,
 "nbformat_minor": 5
}
