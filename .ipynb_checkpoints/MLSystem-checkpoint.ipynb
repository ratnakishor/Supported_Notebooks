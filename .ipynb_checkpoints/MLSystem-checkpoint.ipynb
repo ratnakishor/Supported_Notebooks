{
 "cells": [
  {
   "cell_type": "markdown",
   "id": "3dbeca90",
   "metadata": {},
   "source": [
    "<h2 style=\"color:brown\">Conventional Vs ML System Development</h2>"
   ]
  },
  {
   "cell_type": "markdown",
   "id": "e3a72fa6",
   "metadata": {},
   "source": [
    "## Conventional System Development\n",
    "### Develop a system which takes x value and computes y as y = 2x + 3."
   ]
  },
  {
   "cell_type": "code",
   "execution_count": 1,
   "id": "1f64f4d1",
   "metadata": {},
   "outputs": [
    {
     "name": "stdout",
     "output_type": "stream",
     "text": [
      "Enter x value: 76\n",
      "155\n"
     ]
    }
   ],
   "source": [
    "x = int(input(\"Enter x value: \"))\n",
    "y = 2 * x + 3\n",
    "print(y)"
   ]
  },
  {
   "cell_type": "markdown",
   "id": "94efabaf",
   "metadata": {},
   "source": [
    "### ML System Development\n",
    "* Given the following data develop a system which predicts y from x.\n",
    "\n",
    "   x   |   y\n",
    "  \n",
    "  ---  ---\n",
    " \n",
    "  10 |  23\n",
    "     \n",
    "  22 |  45\n",
    "     \n",
    "  34 |  71\n",
    "     \n",
    "  35 |  73\n",
    "     \n",
    "  45 |  93\n",
    "     \n",
    "  50 |  103\n",
    "     \n",
    "  63 |  128"
   ]
  },
  {
   "cell_type": "markdown",
   "id": "6cd39ec6",
   "metadata": {},
   "source": [
    "** System Development **"
   ]
  },
  {
   "cell_type": "code",
   "execution_count": 2,
   "id": "d699e0c6-651c-42fc-b024-32c53ad3731d",
   "metadata": {},
   "outputs": [],
   "source": [
    "import numpy as np\n",
    "from sklearn.linear_model import LinearRegression"
   ]
  },
  {
   "cell_type": "code",
   "execution_count": 3,
   "id": "d8dde831-b7ce-484a-bcff-c824caeb35aa",
   "metadata": {},
   "outputs": [],
   "source": [
    "X = np.array([10, 22, 34, 35, 45, 50, 63]).reshape(-1, 1)\n",
    "y = np.array([23, 45, 71, 73, 93, 103, 128]).reshape(-1, 1)"
   ]
  },
  {
   "cell_type": "code",
   "execution_count": 4,
   "id": "fb2a34d0-6d7d-4a1c-a0c6-267740aaa452",
   "metadata": {},
   "outputs": [
    {
     "data": {
      "text/plain": [
       "LinearRegression()"
      ]
     },
     "execution_count": 4,
     "metadata": {},
     "output_type": "execute_result"
    }
   ],
   "source": [
    "Regressor = LinearRegression()\n",
    "Regressor.fit(X, y)"
   ]
  },
  {
   "cell_type": "code",
   "execution_count": 5,
   "id": "1bb07b88-9c19-4a55-84ae-8bec11e2c4bc",
   "metadata": {},
   "outputs": [
    {
     "name": "stdout",
     "output_type": "stream",
     "text": [
      "[[2.0021322]]\n",
      "[2.49253731]\n"
     ]
    }
   ],
   "source": [
    "print(Regressor.coef_)\n",
    "print(Regressor.intercept_)"
   ]
  },
  {
   "cell_type": "code",
   "execution_count": 6,
   "id": "d7c722db",
   "metadata": {},
   "outputs": [
    {
     "name": "stdout",
     "output_type": "stream",
     "text": [
      "Model: 2.0 * x + 2.49\n"
     ]
    }
   ],
   "source": [
    "print(f\"Model: {round(Regressor.coef_[0][0], 2)} * x + {round(Regressor.intercept_[0], 2)}\" )"
   ]
  },
  {
   "cell_type": "markdown",
   "id": "bff1950b",
   "metadata": {},
   "source": [
    "** Delpoyment **"
   ]
  },
  {
   "cell_type": "code",
   "execution_count": 7,
   "id": "cf6de22f-c5ee-4c02-82a9-973e82c7da94",
   "metadata": {},
   "outputs": [
    {
     "name": "stdout",
     "output_type": "stream",
     "text": [
      "Enter x vlaue: 76\n",
      "y = 155\n"
     ]
    }
   ],
   "source": [
    "x = int(input(\"Enter x vlaue: \"))\n",
    "x = np.array(x).reshape(-1, 1)\n",
    "prediction = Regressor.predict(x)\n",
    "print(f\"y = {round(prediction[0][0])}\")"
   ]
  },
  {
   "cell_type": "code",
   "execution_count": null,
   "id": "75bc04d5-c333-4697-a0cf-628d25c940db",
   "metadata": {},
   "outputs": [],
   "source": []
  }
 ],
 "metadata": {
  "kernelspec": {
   "display_name": "Python 3",
   "language": "python",
   "name": "python3"
  },
  "language_info": {
   "codemirror_mode": {
    "name": "ipython",
    "version": 3
   },
   "file_extension": ".py",
   "mimetype": "text/x-python",
   "name": "python",
   "nbconvert_exporter": "python",
   "pygments_lexer": "ipython3",
   "version": "3.9.4"
  }
 },
 "nbformat": 4,
 "nbformat_minor": 5
}
