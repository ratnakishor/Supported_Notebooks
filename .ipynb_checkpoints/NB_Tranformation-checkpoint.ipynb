{
 "cells": [
  {
   "cell_type": "code",
   "execution_count": null,
   "id": "5fa492bc",
   "metadata": {},
   "outputs": [],
   "source": [
    "import numpy as np\n",
    "import pandas as pd\n",
    "from plotly.express import scatter, scatter_3d"
   ]
  },
  {
   "cell_type": "code",
   "execution_count": null,
   "id": "c1cc26c2",
   "metadata": {},
   "outputs": [],
   "source": [
    "df1 = pd.read_csv(\"circles1.csv\")\n",
    "df1.head()\n"
   ]
  },
  {
   "cell_type": "code",
   "execution_count": null,
   "id": "21decc10",
   "metadata": {},
   "outputs": [],
   "source": [
    "scatter(df1, x = \"A1\", y = \"A2\", color = df1[\"Y\"])"
   ]
  },
  {
   "cell_type": "code",
   "execution_count": null,
   "id": "1faaafd0",
   "metadata": {},
   "outputs": [],
   "source": [
    "df1[\"radious\"] = np.sqrt(df1[\"A1\"]**2 + df1[\"A2\"]**2)"
   ]
  },
  {
   "cell_type": "code",
   "execution_count": null,
   "id": "79118d9d",
   "metadata": {},
   "outputs": [],
   "source": [
    "df1.head()"
   ]
  },
  {
   "cell_type": "code",
   "execution_count": null,
   "id": "838684b4",
   "metadata": {},
   "outputs": [],
   "source": [
    "from plotly.express import scatter_3d\n",
    "scatter_3d(df1, x = \"A1\", y = \"A2\", z = \"radious\", color = df1[\"Y\"])"
   ]
  },
  {
   "cell_type": "code",
   "execution_count": null,
   "id": "4ca1e742",
   "metadata": {},
   "outputs": [],
   "source": []
  }
 ],
 "metadata": {
  "kernelspec": {
   "display_name": "Python 3",
   "language": "python",
   "name": "python3"
  },
  "language_info": {
   "codemirror_mode": {
    "name": "ipython",
    "version": 3
   },
   "file_extension": ".py",
   "mimetype": "text/x-python",
   "name": "python",
   "nbconvert_exporter": "python",
   "pygments_lexer": "ipython3",
   "version": "3.9.4"
  }
 },
 "nbformat": 4,
 "nbformat_minor": 5
}
