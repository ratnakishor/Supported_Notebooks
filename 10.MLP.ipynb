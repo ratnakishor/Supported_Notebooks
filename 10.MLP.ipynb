{
 "cells": [
  {
   "cell_type": "code",
   "execution_count": 35,
   "id": "c0fafeb3",
   "metadata": {},
   "outputs": [],
   "source": [
    "import numpy as np\n",
    "import pandas as pd\n",
    "from sklearn.datasets import load_iris\n",
    "from sklearn.model_selection import train_test_split\n",
    "from tkinter.filedialog import askopenfilename\n",
    "from sklearn.neural_network import MLPClassifier"
   ]
  },
  {
   "cell_type": "markdown",
   "id": "82e31141",
   "metadata": {},
   "source": [
    "## Example 1: XOR function"
   ]
  },
  {
   "cell_type": "code",
   "execution_count": 36,
   "id": "62d42412",
   "metadata": {},
   "outputs": [],
   "source": [
    "X = np.array([[0, 0], [0, 1], [1, 0], [1, 1]]*500)\n",
    "y = np.array([0, 1, 1, 0]*500)\n",
    "\n",
    "#print(X)\n",
    "#print(y)"
   ]
  },
  {
   "cell_type": "code",
   "execution_count": 27,
   "id": "ebe37a91",
   "metadata": {},
   "outputs": [
    {
     "data": {
      "text/plain": [
       "MLPClassifier(hidden_layer_sizes=(2,), max_iter=10000)"
      ]
     },
     "execution_count": 27,
     "metadata": {},
     "output_type": "execute_result"
    }
   ],
   "source": [
    "model = MLPClassifier(hidden_layer_sizes = (2, ), activation = \"relu\", max_iter = 10000)\n",
    "model.fit(X, y)"
   ]
  },
  {
   "cell_type": "code",
   "execution_count": 28,
   "id": "22376fbe",
   "metadata": {},
   "outputs": [
    {
     "name": "stdout",
     "output_type": "stream",
     "text": [
      "Weight matrix:\n",
      "[array([[-2.40801055,  1.84581474],\n",
      "       [-2.4081925 ,  1.84581052]]), array([[-3.51546266],\n",
      "       [-4.50578425]])]\n",
      "Bias Matrix:\n",
      "[array([ 2.40761298, -1.84568842]), array([3.73250532])]\n"
     ]
    }
   ],
   "source": [
    "print(\"Weight matrix:\")\n",
    "print(model.coefs_)\n",
    "\n",
    "print(\"Bias Matrix:\")\n",
    "print(model.intercepts_)"
   ]
  },
  {
   "cell_type": "code",
   "execution_count": 34,
   "id": "cc0ef519",
   "metadata": {},
   "outputs": [
    {
     "data": {
      "text/plain": [
       "array([0])"
      ]
     },
     "execution_count": 34,
     "metadata": {},
     "output_type": "execute_result"
    }
   ],
   "source": [
    "model.predict(np.array([[0, 0]]))"
   ]
  },
  {
   "cell_type": "markdown",
   "id": "d6700c46",
   "metadata": {},
   "source": [
    "## Example 2"
   ]
  },
  {
   "cell_type": "code",
   "execution_count": null,
   "id": "173f90af",
   "metadata": {},
   "outputs": [],
   "source": [
    "\n",
    "path = askopenfilename(title = \"Browse the input excel file\")\n",
    "\n",
    "df = pd.read_excel(path)\n",
    "print(df.head())\n",
    "\n",
    "X = df[[\"Height in Feet\", \"Weight in KGs\"]]\n",
    "y = df[\"Gender\"]\n",
    "\n",
    "X_train, X_test, y_train, y_test = train_test_split(X, y, test_size = 0.2,  random_state = 0)\n"
   ]
  },
  {
   "cell_type": "code",
   "execution_count": null,
   "id": "0d727b04",
   "metadata": {},
   "outputs": [],
   "source": [
    "\n",
    "\n",
    "model1 = MLPClassifier(hidden_layer_sizes = (5, ), activation = \"relu\" , max_iter = 1000)\n",
    "model1.fit(X_train, y_train)"
   ]
  },
  {
   "cell_type": "code",
   "execution_count": null,
   "id": "5861ef02",
   "metadata": {},
   "outputs": [],
   "source": [
    "# Layer wise weight matrices size\n",
    "\n",
    "WMshapes = [W.shape for W in model1.coefs_]\n",
    "print(WMshapes)"
   ]
  },
  {
   "cell_type": "code",
   "execution_count": null,
   "id": "aaf5b38c",
   "metadata": {},
   "outputs": [],
   "source": [
    "# Layer wise bias vectors size\n",
    "\n",
    "BVshapes = [B.shape for B in model1.intercepts_]\n",
    "print(BVshapes)"
   ]
  },
  {
   "cell_type": "code",
   "execution_count": null,
   "id": "2331346d",
   "metadata": {},
   "outputs": [],
   "source": [
    "# Total model parameters\n",
    "\n",
    "total_weights = sum([t[0]*t[1] for t in WMshapes])\n",
    "print(\"Total weights:\", total_weights)\n",
    "\n",
    "total_biases = sum([t[0] for t in BVshapes])\n",
    "print(\"Total Biases:\", total_biases)\n",
    "\n",
    "print(\"Total Modal Parameters:\", total_weights+total_biases)"
   ]
  },
  {
   "cell_type": "code",
   "execution_count": null,
   "id": "38fcd042",
   "metadata": {},
   "outputs": [],
   "source": [
    "from sklearn.metrics import accuracy_score\n",
    "\n",
    "print(accuracy_score(y_test, model1.predict(X_test)))"
   ]
  },
  {
   "cell_type": "code",
   "execution_count": null,
   "id": "210a7d03",
   "metadata": {},
   "outputs": [],
   "source": [
    "# Prediction\n",
    "import numpy as np\n",
    "\n",
    "height = float(input(\"Enter Height in feet:\"))\n",
    "weight = float(input(\"Enter Weight in KGs: \"))\n",
    "\n",
    "data = np.array([[height, weight]])\n",
    "\n",
    "print(\"The output probabilities are:\", model1.predict_proba(data))\n",
    "\n",
    "print(\"Gender is\", model1.predict(data))\n"
   ]
  },
  {
   "cell_type": "code",
   "execution_count": null,
   "id": "db36e2f8",
   "metadata": {},
   "outputs": [],
   "source": []
  }
 ],
 "metadata": {
  "kernelspec": {
   "display_name": "Python 3",
   "language": "python",
   "name": "python3"
  },
  "language_info": {
   "codemirror_mode": {
    "name": "ipython",
    "version": 3
   },
   "file_extension": ".py",
   "mimetype": "text/x-python",
   "name": "python",
   "nbconvert_exporter": "python",
   "pygments_lexer": "ipython3",
   "version": "3.9.4"
  }
 },
 "nbformat": 4,
 "nbformat_minor": 5
}
