{
 "cells": [
  {
   "cell_type": "markdown",
   "id": "80a522e5",
   "metadata": {},
   "source": [
    "<h1 style = \"color:red\">Understanding Different Datasets and their shapes</h1>"
   ]
  },
  {
   "cell_type": "markdown",
   "id": "c5be1b24",
   "metadata": {},
   "source": [
    "<h2 style = \"color=green\">1. Loading data from csv file</h2>"
   ]
  },
  {
   "cell_type": "code",
   "execution_count": null,
   "id": "e3b0e294",
   "metadata": {},
   "outputs": [],
   "source": [
    "# Importing libary\n",
    "import pandas as pd\n",
    "\n",
    "# Loading csv data as pandas dataframe\n",
    "df1 = pd.read_csv(\"student.csv\")"
   ]
  },
  {
   "cell_type": "code",
   "execution_count": null,
   "id": "675f6a26",
   "metadata": {},
   "outputs": [],
   "source": [
    "print(\"***Shape of Data***\")\n",
    "print(df1.shape)"
   ]
  },
  {
   "cell_type": "code",
   "execution_count": null,
   "id": "b67a8b0f",
   "metadata": {},
   "outputs": [],
   "source": [
    "print(\"\\n***Features***\")\n",
    "print(df1.columns)"
   ]
  },
  {
   "cell_type": "code",
   "execution_count": null,
   "id": "6f956609",
   "metadata": {},
   "outputs": [],
   "source": [
    "print(\"\\n***First 5 instances***\")\n",
    "print(df1.head())"
   ]
  },
  {
   "cell_type": "markdown",
   "id": "5c2541b8",
   "metadata": {},
   "source": [
    "<h2 style = \"color=green\">2. Loading data from Excel file</h2>"
   ]
  },
  {
   "cell_type": "code",
   "execution_count": null,
   "id": "713a774a",
   "metadata": {},
   "outputs": [],
   "source": [
    "# Importing libary\n",
    "import pandas as pd\n",
    "\n",
    "# Loading Excel data as pandas dataframe\n",
    "df2 = pd.read_excel(\"Superstore.xls\")"
   ]
  },
  {
   "cell_type": "code",
   "execution_count": null,
   "id": "05993ad8",
   "metadata": {},
   "outputs": [],
   "source": [
    "print(\"***Shape of Data***\")\n",
    "print(df2.shape)"
   ]
  },
  {
   "cell_type": "code",
   "execution_count": null,
   "id": "350a936e",
   "metadata": {},
   "outputs": [],
   "source": [
    "print(\"\\n***Features***\")\n",
    "print(df2.columns)"
   ]
  },
  {
   "cell_type": "code",
   "execution_count": null,
   "id": "8bdc0f98",
   "metadata": {},
   "outputs": [],
   "source": [
    "print(\"\\n***First 5 instances***\")\n",
    "print(df2.head())"
   ]
  },
  {
   "cell_type": "markdown",
   "id": "37e226ea",
   "metadata": {},
   "source": [
    "<h2 style = \"color=green\">3. Loading Black & White Image</h2>"
   ]
  },
  {
   "cell_type": "code",
   "execution_count": null,
   "id": "19797482",
   "metadata": {},
   "outputs": [],
   "source": [
    "from skimage import io\n",
    "\n",
    "img1 = io.imread(\"bw1.jpg\")\n",
    "print(type(img1))"
   ]
  },
  {
   "cell_type": "code",
   "execution_count": null,
   "id": "7dc7e57d",
   "metadata": {},
   "outputs": [],
   "source": [
    "print(\"\\n***Image***\")\n",
    "io.imshow(img1)"
   ]
  },
  {
   "cell_type": "code",
   "execution_count": null,
   "id": "6e0f7201",
   "metadata": {},
   "outputs": [],
   "source": [
    "print(\"\\n***Shape of image***\")\n",
    "print(img1.shape)"
   ]
  },
  {
   "cell_type": "code",
   "execution_count": null,
   "id": "987dbb73",
   "metadata": {},
   "outputs": [],
   "source": [
    "print(\"\\n***First Pixel value***\")\n",
    "print(img1[400, 400])"
   ]
  },
  {
   "cell_type": "markdown",
   "id": "f5d30c43",
   "metadata": {},
   "source": [
    "<h2 style = \"color=green\">4. Loading Grayscale Image</h2>"
   ]
  },
  {
   "cell_type": "code",
   "execution_count": null,
   "id": "c90a4660",
   "metadata": {},
   "outputs": [],
   "source": [
    "from skimage import io\n",
    "\n",
    "img2 = io.imread(\"gray1.jpg\")\n",
    "print(type(img2))"
   ]
  },
  {
   "cell_type": "code",
   "execution_count": null,
   "id": "b621835e",
   "metadata": {},
   "outputs": [],
   "source": [
    "print(\"\\n***Image***\")\n",
    "io.imshow(img2)"
   ]
  },
  {
   "cell_type": "code",
   "execution_count": null,
   "id": "480adbdc",
   "metadata": {},
   "outputs": [],
   "source": [
    "print(\"\\n***Shape of image***\")\n",
    "print(img2.shape)"
   ]
  },
  {
   "cell_type": "code",
   "execution_count": null,
   "id": "1b2bf2a7",
   "metadata": {},
   "outputs": [],
   "source": [
    "print(\"\\n***First Pixel value***\")\n",
    "print(img2[0, 0])\n",
    "print(img2[210, 10])\n",
    "print(img2[130, 140])"
   ]
  },
  {
   "cell_type": "markdown",
   "id": "46952b6b",
   "metadata": {},
   "source": [
    "<h2 style = \"color=green\">5. Loading RGB Color Image</h2>"
   ]
  },
  {
   "cell_type": "code",
   "execution_count": null,
   "id": "2e73b7ba",
   "metadata": {},
   "outputs": [],
   "source": [
    "from skimage import io\n",
    "\n",
    "img3 = io.imread(\"color.jfif\")\n",
    "print(type(img1))"
   ]
  },
  {
   "cell_type": "code",
   "execution_count": null,
   "id": "e394b7d4",
   "metadata": {},
   "outputs": [],
   "source": [
    "print(\"\\n***Image***\")\n",
    "io.imshow(img3)"
   ]
  },
  {
   "cell_type": "code",
   "execution_count": null,
   "id": "854b0dd8",
   "metadata": {},
   "outputs": [],
   "source": [
    "print(\"\\n***Shape of image***\")\n",
    "print(img3.shape)"
   ]
  },
  {
   "cell_type": "code",
   "execution_count": null,
   "id": "ad28a46a",
   "metadata": {},
   "outputs": [],
   "source": [
    "print(\"\\n***First Pixel value***\")\n",
    "print(img3[0, 0])\n",
    "print(img3[150, 90])"
   ]
  },
  {
   "cell_type": "code",
   "execution_count": null,
   "id": "031a5aad",
   "metadata": {},
   "outputs": [],
   "source": []
  }
 ],
 "metadata": {
  "kernelspec": {
   "display_name": "Python 3",
   "language": "python",
   "name": "python3"
  },
  "language_info": {
   "codemirror_mode": {
    "name": "ipython",
    "version": 3
   },
   "file_extension": ".py",
   "mimetype": "text/x-python",
   "name": "python",
   "nbconvert_exporter": "python",
   "pygments_lexer": "ipython3",
   "version": "3.9.4"
  }
 },
 "nbformat": 4,
 "nbformat_minor": 5
}
