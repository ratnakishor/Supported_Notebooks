{
 "cells": [
  {
   "cell_type": "markdown",
   "id": "dc96dc06-4eb9-44c3-99f5-5f3b99fcab88",
   "metadata": {},
   "source": [
    "<h1 style  = \"color:brown\">Prediction of weight using height and Gender of a person</h1>"
   ]
  },
  {
   "cell_type": "markdown",
   "id": "200f0dac-90dc-43ce-993c-f86048958e1a",
   "metadata": {},
   "source": [
    "<h2 style  = \"color:green\">Simple Liear Regression</h2>\n",
    "\n",
    "* weight = m1 * height + m2 * Gender + b"
   ]
  },
  {
   "cell_type": "markdown",
   "id": "4eae22ab-d9ef-4f33-8118-b956a770e38e",
   "metadata": {},
   "source": [
    "# 1. Data Collection and Preproessing\n",
    "\n",
    "a. Collect the data\n",
    "\n",
    "b. Cheeck for missing values"
   ]
  },
  {
   "cell_type": "code",
   "execution_count": null,
   "id": "0ffe7584-249c-4805-927d-c034ebe88617",
   "metadata": {},
   "outputs": [],
   "source": [
    "import pandas as pd"
   ]
  },
  {
   "cell_type": "code",
   "execution_count": null,
   "id": "4bd7db01-6f18-4102-bdca-e3cffa7535ce",
   "metadata": {},
   "outputs": [],
   "source": [
    "df = pd.read_excel(\"B-Data.xlsx\")\n",
    "print(df.shape)\n",
    "print(df.head())"
   ]
  },
  {
   "cell_type": "code",
   "execution_count": null,
   "id": "75347840-9443-4080-9ce8-dc2dcfafc8f6",
   "metadata": {},
   "outputs": [],
   "source": [
    "print(df.isnull().sum())"
   ]
  },
  {
   "cell_type": "markdown",
   "id": "a74dc8ed-65f6-44db-9df8-d2c8743841ef",
   "metadata": {},
   "source": [
    "# 2. Feature Selection\n",
    "\n",
    "a. Drop the unnecessory attribues\n",
    "\n",
    "b. Separate input and ouput\n",
    "\n",
    "c. Convert categorical Gender attribute to numeric\n",
    "\n",
    "d. Split the data into training and testing subsets"
   ]
  },
  {
   "cell_type": "code",
   "execution_count": null,
   "id": "dc02115a-5983-484b-9e05-acd3e7a19503",
   "metadata": {},
   "outputs": [],
   "source": [
    "df = df.drop([\"Timestamp\",\"Name\"], axis = 1)\n",
    "print(df.head())"
   ]
  },
  {
   "cell_type": "code",
   "execution_count": null,
   "id": "f869ff2e-7792-4630-ae8b-5091be94dc4b",
   "metadata": {},
   "outputs": [],
   "source": [
    "X = df[[\"Height in Feet\", \"Gender\"]]\n",
    "print(X.head())\n",
    "y = df[\"Weight in KGs\"]\n",
    "print(y[0:5])"
   ]
  },
  {
   "cell_type": "code",
   "execution_count": null,
   "id": "58316164-f7e0-4f18-9749-9fe99efd13fc",
   "metadata": {},
   "outputs": [],
   "source": [
    "X[\"Gender\"] = X[\"Gender\"].replace([\"M\", \"F\"], [1, 0])\n",
    "print(X.head())"
   ]
  },
  {
   "cell_type": "code",
   "execution_count": null,
   "id": "2ebe040d-fd21-461b-ba99-462f1c436971",
   "metadata": {},
   "outputs": [],
   "source": [
    "from sklearn.model_selection import train_test_split\n",
    "\n",
    "X_train, X_test, y_train, y_test = train_test_split(X, y, test_size=0.2, random_state = 19)\n",
    "print(X_train.shape, y_train.shape)\n",
    "print(X_test.shape, y_test.shape)"
   ]
  },
  {
   "cell_type": "markdown",
   "id": "c7c90b63-136f-4509-bc87-dc918ade88a0",
   "metadata": {},
   "source": [
    "# 3. Algorithm Choice"
   ]
  },
  {
   "cell_type": "markdown",
   "id": "322ad7d4-85e9-4756-9882-98049ce43340",
   "metadata": {},
   "source": [
    "### Multiple Linear Regression"
   ]
  },
  {
   "cell_type": "markdown",
   "id": "e503deb6-b18a-4755-a33d-52cead5e9a3f",
   "metadata": {},
   "source": [
    "# 4. Parameter Selection"
   ]
  },
  {
   "cell_type": "markdown",
   "id": "6b62ce36-227c-4794-a95f-869083413324",
   "metadata": {},
   "source": [
    "### No Parameter is required to select"
   ]
  },
  {
   "cell_type": "markdown",
   "id": "28f033e8-b95d-471c-a3ab-20d7b890bf2a",
   "metadata": {},
   "source": [
    "# 5. Training"
   ]
  },
  {
   "cell_type": "code",
   "execution_count": null,
   "id": "c6e05965-a64e-4d9b-87d9-c3cd49e4ba78",
   "metadata": {},
   "outputs": [],
   "source": [
    "from sklearn.linear_model import LinearRegression"
   ]
  },
  {
   "cell_type": "code",
   "execution_count": null,
   "id": "3585e22c-8b28-4e50-90f6-a9909719f584",
   "metadata": {},
   "outputs": [],
   "source": [
    "Regressor = LinearRegression()\n",
    "Regressor.fit(X_train, y_train)"
   ]
  },
  {
   "cell_type": "code",
   "execution_count": null,
   "id": "182e2705-0518-4134-b7e9-7fde6a7d4c6b",
   "metadata": {},
   "outputs": [],
   "source": [
    "print(Regressor.coef_)\n",
    "print(Regressor.intercept_)"
   ]
  },
  {
   "cell_type": "markdown",
   "id": "f6ba2b0e-89f2-46e5-b6d7-07cfb4df2446",
   "metadata": {},
   "source": [
    "# 6. Testing (Evaluation)"
   ]
  },
  {
   "cell_type": "code",
   "execution_count": null,
   "id": "8c2991b0-bb96-45b6-9167-851febe367e0",
   "metadata": {},
   "outputs": [],
   "source": [
    "from sklearn.metrics import mean_squared_error,r2_score"
   ]
  },
  {
   "cell_type": "code",
   "execution_count": null,
   "id": "28a6b54e-6b75-46e3-b030-8195773abc17",
   "metadata": {},
   "outputs": [],
   "source": [
    "y_pred = Regressor.predict(X_test)\n",
    "MSE = mean_squared_error(y_test, y_pred) \n",
    "print(f\"MSE = {MSE}\")\n",
    "r2 = r2_score(y_test, y_pred)\n",
    "print(f\"R2_Score = {r2}\")"
   ]
  },
  {
   "cell_type": "markdown",
   "id": "eface064-308e-443a-bad0-6a4564404d5e",
   "metadata": {},
   "source": [
    "# Model deployment"
   ]
  },
  {
   "cell_type": "code",
   "execution_count": null,
   "id": "2b159a04-80c4-49ba-a1ae-d330b40445e0",
   "metadata": {},
   "outputs": [],
   "source": [
    "height = float(input(\"Enter height in feet: \"))\n",
    "gender = int(input(\"Enter Gender - 0 for Female and 1 for Male: \"))\n",
    "data = {}\n",
    "data[\"Height in Feet\"] = [height]\n",
    "data[\"Gender\"] = [gender]\n",
    "data = pd.DataFrame(data)\n",
    "prediction = Regressor.predict(data)\n",
    "print(f\"Predicted Weight: {round(prediction[0])}\")"
   ]
  },
  {
   "cell_type": "code",
   "execution_count": null,
   "id": "5e56537f-08f2-4010-b27b-7a3c282d6eda",
   "metadata": {},
   "outputs": [],
   "source": []
  }
 ],
 "metadata": {
  "kernelspec": {
   "display_name": "Python 3",
   "language": "python",
   "name": "python3"
  },
  "language_info": {
   "codemirror_mode": {
    "name": "ipython",
    "version": 3
   },
   "file_extension": ".py",
   "mimetype": "text/x-python",
   "name": "python",
   "nbconvert_exporter": "python",
   "pygments_lexer": "ipython3",
   "version": "3.9.4"
  }
 },
 "nbformat": 4,
 "nbformat_minor": 5
}
