{
 "cells": [
  {
   "cell_type": "markdown",
   "id": "54b65334",
   "metadata": {},
   "source": [
    "## Importing data from Golf-Play toy dataset"
   ]
  },
  {
   "cell_type": "code",
   "execution_count": 1,
   "id": "73cae281",
   "metadata": {},
   "outputs": [
    {
     "name": "stdout",
     "output_type": "stream",
     "text": [
      "     Outlook Temperature Humidity  Windy Play\n",
      "0      Rainy         Hot     High  False   No\n",
      "1      Rainy         Hot     High   True   No\n",
      "2   Overcast         Hot     High  False  Yes\n",
      "3      Sunny        Mild     High  False  Yes\n",
      "4      Sunny        Cool   Normal  False  Yes\n",
      "5      Sunny        Cool   Normal   True   No\n",
      "6   Overcast        Cool   Normal   True  Yes\n",
      "7      Rainy        Mild     High  False   No\n",
      "8      Rainy        Cool   Normal  False  Yes\n",
      "9      Sunny        Mild   Normal  False  Yes\n",
      "10     Rainy        Mild   Normal   True  Yes\n",
      "11  Overcast        Mild     High   True  Yes\n",
      "12  Overcast         Hot   Normal  False  Yes\n",
      "13     Sunny        Mild     High   True   No\n"
     ]
    }
   ],
   "source": [
    "import pandas as pd\n",
    "\n",
    "df = pd.read_excel(\"Play.xlsx\")\n",
    "print(df)"
   ]
  },
  {
   "cell_type": "markdown",
   "id": "725af330",
   "metadata": {},
   "source": [
    "## Seperating the data in to Input and Output"
   ]
  },
  {
   "cell_type": "code",
   "execution_count": 2,
   "id": "4d99e5ca",
   "metadata": {},
   "outputs": [
    {
     "name": "stdout",
     "output_type": "stream",
     "text": [
      "Index(['Outlook', 'Temperature', 'Humidity', 'Windy'], dtype='object')\n"
     ]
    }
   ],
   "source": [
    "X = df.drop(\"Play\", axis =1)\n",
    "y = df[\"Play\"]\n",
    "print(X.columns)"
   ]
  },
  {
   "cell_type": "markdown",
   "id": "c6c7350b",
   "metadata": {},
   "source": [
    "## Encoding Categorical features"
   ]
  },
  {
   "cell_type": "code",
   "execution_count": 3,
   "id": "bf983b33",
   "metadata": {},
   "outputs": [],
   "source": [
    "from sklearn.preprocessing import LabelEncoder\n",
    "\n",
    "encoder = LabelEncoder()\n",
    "X[\"Outlook\"] = encoder.fit_transform(X[\"Outlook\"])\n",
    "X[\"Temperature\"] = encoder.fit_transform(X[\"Temperature\"])\n",
    "X[\"Humidity\"] = encoder.fit_transform(X[\"Humidity\"])\n",
    "X[\"Windy\"] = encoder.fit_transform(X[\"Windy\"])"
   ]
  },
  {
   "cell_type": "code",
   "execution_count": 4,
   "id": "c31e3da2",
   "metadata": {},
   "outputs": [
    {
     "name": "stdout",
     "output_type": "stream",
     "text": [
      "    Outlook  Temperature  Humidity  Windy\n",
      "0         1            1         0      0\n",
      "1         1            1         0      1\n",
      "2         0            1         0      0\n",
      "3         2            2         0      0\n",
      "4         2            0         1      0\n",
      "5         2            0         1      1\n",
      "6         0            0         1      1\n",
      "7         1            2         0      0\n",
      "8         1            0         1      0\n",
      "9         2            2         1      0\n",
      "10        1            2         1      1\n",
      "11        0            2         0      1\n",
      "12        0            1         1      0\n",
      "13        2            2         0      1\n"
     ]
    }
   ],
   "source": [
    "print(X)"
   ]
  },
  {
   "cell_type": "markdown",
   "id": "edba1cb0",
   "metadata": {},
   "source": [
    "## Building a model"
   ]
  },
  {
   "cell_type": "code",
   "execution_count": 5,
   "id": "273effeb",
   "metadata": {},
   "outputs": [
    {
     "data": {
      "text/plain": [
       "GaussianNB()"
      ]
     },
     "execution_count": 5,
     "metadata": {},
     "output_type": "execute_result"
    }
   ],
   "source": [
    "from sklearn.naive_bayes import GaussianNB\n",
    "\n",
    "model = GaussianNB()\n",
    "model.fit(X, y)"
   ]
  },
  {
   "cell_type": "markdown",
   "id": "0280dbea",
   "metadata": {},
   "source": [
    "## Deployment"
   ]
  },
  {
   "cell_type": "code",
   "execution_count": 7,
   "id": "c64ea9b7",
   "metadata": {},
   "outputs": [
    {
     "name": "stdout",
     "output_type": "stream",
     "text": [
      "Enter Outlook (0:Overcast, 1:Rainy, 2:Sunny):1\n",
      "Enter Temperature (0:Cool, 1:Hot, 2:Mild):2\n",
      "Enter Humidity (0:High , 1:Normal):0\n",
      "Is it Windy? (0:True , 1:False):0\n",
      "Play = No\n"
     ]
    }
   ],
   "source": [
    "import numpy as np\n",
    "\n",
    "Outlook = int(input(\"Enter Outlook (0:Overcast, 1:Rainy, 2:Sunny):\"))\n",
    "Temperature = int(input(\"Enter Temperature (0:Cool, 1:Hot, 2:Mild):\"))\n",
    "Humidity = int(input(\"Enter Humidity (0:High , 1:Normal):\"))\n",
    "Wind = int(input(\"Is it Windy? (0:True , 1:False):\"))\n",
    "\n",
    "Xnew = np.array([[Outlook, Temperature, Humidity, Wind]])\n",
    "ynew = model.predict(Xnew)\n",
    "print(\"Play =\", ynew[0])"
   ]
  },
  {
   "cell_type": "code",
   "execution_count": null,
   "id": "fb2b0ca6",
   "metadata": {},
   "outputs": [],
   "source": []
  }
 ],
 "metadata": {
  "kernelspec": {
   "display_name": "Python 3",
   "language": "python",
   "name": "python3"
  },
  "language_info": {
   "codemirror_mode": {
    "name": "ipython",
    "version": 3
   },
   "file_extension": ".py",
   "mimetype": "text/x-python",
   "name": "python",
   "nbconvert_exporter": "python",
   "pygments_lexer": "ipython3",
   "version": "3.9.4"
  }
 },
 "nbformat": 4,
 "nbformat_minor": 5
}
